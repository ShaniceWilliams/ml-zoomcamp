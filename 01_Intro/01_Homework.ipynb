{
 "cells": [
  {
   "cell_type": "markdown",
   "metadata": {},
   "source": [
    "# Homework: Introduction\n",
    "\n",
    "By Shanice Williams"
   ]
  },
  {
   "cell_type": "code",
   "execution_count": 1,
   "metadata": {},
   "outputs": [],
   "source": [
    "import pandas as pd\n",
    "import numpy as np"
   ]
  },
  {
   "cell_type": "markdown",
   "metadata": {},
   "source": [
    "## Q1. Pandas version\n",
    "\n",
    "What version of Pandas did you install?\n",
    "\n",
    "You can get the version information using the `__version__` field:\n",
    "\n",
    "```python\n",
    "pd.__version__\n",
    "```"
   ]
  },
  {
   "cell_type": "code",
   "execution_count": 2,
   "metadata": {},
   "outputs": [
    {
     "data": {
      "text/plain": [
       "'2.3.2'"
      ]
     },
     "execution_count": 2,
     "metadata": {},
     "output_type": "execute_result"
    }
   ],
   "source": [
    "pd.__version__"
   ]
  },
  {
   "cell_type": "markdown",
   "metadata": {},
   "source": [
    "## Getting the data \n",
    "\n",
    "For this homework, we'll use the Car Fuel Efficiency dataset. Download it from <a href='https://raw.githubusercontent.com/alexeygrigorev/datasets/master/car_fuel_efficiency.csv'>here</a>.\n",
    "\n",
    "You can do it with wget:\n",
    "```bash\n",
    "wget https://raw.githubusercontent.com/alexeygrigorev/datasets/master/car_fuel_efficiency.csv\n",
    "```\n",
    "\n",
    "Or just open it with your browser and click \"Save as...\".\n",
    "\n",
    "Now read it with Pandas."
   ]
  },
  {
   "cell_type": "code",
   "execution_count": 5,
   "metadata": {},
   "outputs": [],
   "source": [
    "file_path = \"./data/car_fuel_efficiency.csv\""
   ]
  },
  {
   "cell_type": "code",
   "execution_count": 6,
   "metadata": {},
   "outputs": [],
   "source": [
    "df = pd.read_csv(file_path)"
   ]
  },
  {
   "cell_type": "code",
   "execution_count": 7,
   "metadata": {},
   "outputs": [
    {
     "data": {
      "text/html": [
       "<div>\n",
       "<style scoped>\n",
       "    .dataframe tbody tr th:only-of-type {\n",
       "        vertical-align: middle;\n",
       "    }\n",
       "\n",
       "    .dataframe tbody tr th {\n",
       "        vertical-align: top;\n",
       "    }\n",
       "\n",
       "    .dataframe thead th {\n",
       "        text-align: right;\n",
       "    }\n",
       "</style>\n",
       "<table border=\"1\" class=\"dataframe\">\n",
       "  <thead>\n",
       "    <tr style=\"text-align: right;\">\n",
       "      <th></th>\n",
       "      <th>engine_displacement</th>\n",
       "      <th>num_cylinders</th>\n",
       "      <th>horsepower</th>\n",
       "      <th>vehicle_weight</th>\n",
       "      <th>acceleration</th>\n",
       "      <th>model_year</th>\n",
       "      <th>origin</th>\n",
       "      <th>fuel_type</th>\n",
       "      <th>drivetrain</th>\n",
       "      <th>num_doors</th>\n",
       "      <th>fuel_efficiency_mpg</th>\n",
       "    </tr>\n",
       "  </thead>\n",
       "  <tbody>\n",
       "    <tr>\n",
       "      <th>0</th>\n",
       "      <td>170</td>\n",
       "      <td>3.0</td>\n",
       "      <td>159.0</td>\n",
       "      <td>3413.433759</td>\n",
       "      <td>17.7</td>\n",
       "      <td>2003</td>\n",
       "      <td>Europe</td>\n",
       "      <td>Gasoline</td>\n",
       "      <td>All-wheel drive</td>\n",
       "      <td>0.0</td>\n",
       "      <td>13.231729</td>\n",
       "    </tr>\n",
       "    <tr>\n",
       "      <th>1</th>\n",
       "      <td>130</td>\n",
       "      <td>5.0</td>\n",
       "      <td>97.0</td>\n",
       "      <td>3149.664934</td>\n",
       "      <td>17.8</td>\n",
       "      <td>2007</td>\n",
       "      <td>USA</td>\n",
       "      <td>Gasoline</td>\n",
       "      <td>Front-wheel drive</td>\n",
       "      <td>0.0</td>\n",
       "      <td>13.688217</td>\n",
       "    </tr>\n",
       "    <tr>\n",
       "      <th>2</th>\n",
       "      <td>170</td>\n",
       "      <td>NaN</td>\n",
       "      <td>78.0</td>\n",
       "      <td>3079.038997</td>\n",
       "      <td>15.1</td>\n",
       "      <td>2018</td>\n",
       "      <td>Europe</td>\n",
       "      <td>Gasoline</td>\n",
       "      <td>Front-wheel drive</td>\n",
       "      <td>0.0</td>\n",
       "      <td>14.246341</td>\n",
       "    </tr>\n",
       "    <tr>\n",
       "      <th>3</th>\n",
       "      <td>220</td>\n",
       "      <td>4.0</td>\n",
       "      <td>NaN</td>\n",
       "      <td>2542.392402</td>\n",
       "      <td>20.2</td>\n",
       "      <td>2009</td>\n",
       "      <td>USA</td>\n",
       "      <td>Diesel</td>\n",
       "      <td>All-wheel drive</td>\n",
       "      <td>2.0</td>\n",
       "      <td>16.912736</td>\n",
       "    </tr>\n",
       "    <tr>\n",
       "      <th>4</th>\n",
       "      <td>210</td>\n",
       "      <td>1.0</td>\n",
       "      <td>140.0</td>\n",
       "      <td>3460.870990</td>\n",
       "      <td>14.4</td>\n",
       "      <td>2009</td>\n",
       "      <td>Europe</td>\n",
       "      <td>Gasoline</td>\n",
       "      <td>All-wheel drive</td>\n",
       "      <td>2.0</td>\n",
       "      <td>12.488369</td>\n",
       "    </tr>\n",
       "  </tbody>\n",
       "</table>\n",
       "</div>"
      ],
      "text/plain": [
       "   engine_displacement  num_cylinders  horsepower  vehicle_weight  \\\n",
       "0                  170            3.0       159.0     3413.433759   \n",
       "1                  130            5.0        97.0     3149.664934   \n",
       "2                  170            NaN        78.0     3079.038997   \n",
       "3                  220            4.0         NaN     2542.392402   \n",
       "4                  210            1.0       140.0     3460.870990   \n",
       "\n",
       "   acceleration  model_year  origin fuel_type         drivetrain  num_doors  \\\n",
       "0          17.7        2003  Europe  Gasoline    All-wheel drive        0.0   \n",
       "1          17.8        2007     USA  Gasoline  Front-wheel drive        0.0   \n",
       "2          15.1        2018  Europe  Gasoline  Front-wheel drive        0.0   \n",
       "3          20.2        2009     USA    Diesel    All-wheel drive        2.0   \n",
       "4          14.4        2009  Europe  Gasoline    All-wheel drive        2.0   \n",
       "\n",
       "   fuel_efficiency_mpg  \n",
       "0            13.231729  \n",
       "1            13.688217  \n",
       "2            14.246341  \n",
       "3            16.912736  \n",
       "4            12.488369  "
      ]
     },
     "execution_count": 7,
     "metadata": {},
     "output_type": "execute_result"
    }
   ],
   "source": [
    "df.head()"
   ]
  },
  {
   "cell_type": "markdown",
   "metadata": {},
   "source": [
    "## Q2. Records count\n",
    "\n",
    "How many records are in the dataset?\n",
    "\n",
    "- 4704\n",
    "- 8704\n",
    "- 9704 [x]\n",
    "- 17704"
   ]
  },
  {
   "cell_type": "code",
   "execution_count": 8,
   "metadata": {},
   "outputs": [
    {
     "data": {
      "text/plain": [
       "(9704, 11)"
      ]
     },
     "execution_count": 8,
     "metadata": {},
     "output_type": "execute_result"
    }
   ],
   "source": [
    "df.shape"
   ]
  },
  {
   "cell_type": "markdown",
   "metadata": {},
   "source": [
    "## Q3. Fuel types\n",
    "\n",
    "How many fuel types are presented in the dataset?\n",
    "\n",
    "- 1\n",
    "- 2 [x]\n",
    "- 3\n",
    "- 4"
   ]
  },
  {
   "cell_type": "code",
   "execution_count": 9,
   "metadata": {},
   "outputs": [
    {
     "data": {
      "text/plain": [
       "2"
      ]
     },
     "execution_count": 9,
     "metadata": {},
     "output_type": "execute_result"
    }
   ],
   "source": [
    "df.fuel_type.nunique()"
   ]
  },
  {
   "cell_type": "markdown",
   "metadata": {},
   "source": [
    "## Q4. Missing values\n",
    "\n",
    "How many columns in the dataset have missing values?\n",
    "\n",
    "- 0\n",
    "- 1\n",
    "- 2\n",
    "- 3\n",
    "- 4 [x]"
   ]
  },
  {
   "cell_type": "code",
   "execution_count": 10,
   "metadata": {},
   "outputs": [
    {
     "data": {
      "text/plain": [
       "engine_displacement      0\n",
       "num_cylinders          482\n",
       "horsepower             708\n",
       "vehicle_weight           0\n",
       "acceleration           930\n",
       "model_year               0\n",
       "origin                   0\n",
       "fuel_type                0\n",
       "drivetrain               0\n",
       "num_doors              502\n",
       "fuel_efficiency_mpg      0\n",
       "dtype: int64"
      ]
     },
     "execution_count": 10,
     "metadata": {},
     "output_type": "execute_result"
    }
   ],
   "source": [
    "df.isnull().sum()"
   ]
  },
  {
   "cell_type": "markdown",
   "metadata": {},
   "source": [
    "## Q5. Max fuel efficiency\n",
    "\n",
    "What's the maximum fuel efficiency of cars from Asia?\n",
    "\n",
    "- 13.75\n",
    "- 23.75 [x]\n",
    "- 33.75\n",
    "- 43.75"
   ]
  },
  {
   "cell_type": "code",
   "execution_count": 11,
   "metadata": {},
   "outputs": [
    {
     "data": {
      "text/plain": [
       "origin\n",
       "Asia      23.759123\n",
       "Europe    25.967222\n",
       "USA       24.971452\n",
       "Name: fuel_efficiency_mpg, dtype: float64"
      ]
     },
     "execution_count": 11,
     "metadata": {},
     "output_type": "execute_result"
    }
   ],
   "source": [
    "df.groupby('origin').fuel_efficiency_mpg.max()"
   ]
  },
  {
   "cell_type": "markdown",
   "metadata": {},
   "source": [
    "## Q6. Median value of horsepower\n",
    "\n",
    "1. Find the median value of the `horsepower` column in the dataset.\n",
    "2. Next, calculate the most frequent value of the same `horsepower` column.\n",
    "3. Use the `fillna` method to fill the missing values in the `horsepower` column with the most frequent value from the previous step.\n",
    "4. Now, calculate the median value of `horsepower` once again.\n",
    "\n",
    "Has it changed?\n",
    "\n",
    "\n",
    "- Yes, it increased [x]\n",
    "- Yes, it decreased\n",
    "- No"
   ]
  },
  {
   "cell_type": "code",
   "execution_count": 12,
   "metadata": {},
   "outputs": [
    {
     "data": {
      "text/plain": [
       "np.float64(149.0)"
      ]
     },
     "execution_count": 12,
     "metadata": {},
     "output_type": "execute_result"
    }
   ],
   "source": [
    "df.horsepower.median()"
   ]
  },
  {
   "cell_type": "code",
   "execution_count": 13,
   "metadata": {},
   "outputs": [
    {
     "data": {
      "text/plain": [
       "np.float64(152.0)"
      ]
     },
     "execution_count": 13,
     "metadata": {},
     "output_type": "execute_result"
    }
   ],
   "source": [
    "mode_hp = df.horsepower.mode()[0]\n",
    "mode_hp"
   ]
  },
  {
   "cell_type": "code",
   "execution_count": 14,
   "metadata": {},
   "outputs": [
    {
     "data": {
      "text/plain": [
       "np.int64(708)"
      ]
     },
     "execution_count": 14,
     "metadata": {},
     "output_type": "execute_result"
    }
   ],
   "source": [
    "df.horsepower.isnull().sum()"
   ]
  },
  {
   "cell_type": "code",
   "execution_count": 15,
   "metadata": {},
   "outputs": [],
   "source": [
    "df['horsepower'] = df.horsepower.fillna(value=mode_hp)"
   ]
  },
  {
   "cell_type": "code",
   "execution_count": 16,
   "metadata": {},
   "outputs": [
    {
     "data": {
      "text/plain": [
       "np.int64(0)"
      ]
     },
     "execution_count": 16,
     "metadata": {},
     "output_type": "execute_result"
    }
   ],
   "source": [
    "df.horsepower.isnull().sum()"
   ]
  },
  {
   "cell_type": "code",
   "execution_count": 17,
   "metadata": {},
   "outputs": [
    {
     "data": {
      "text/plain": [
       "np.float64(152.0)"
      ]
     },
     "execution_count": 17,
     "metadata": {},
     "output_type": "execute_result"
    }
   ],
   "source": [
    "df.horsepower.median()"
   ]
  },
  {
   "cell_type": "markdown",
   "metadata": {},
   "source": [
    "## Q7. Sum of weights\n",
    "\n",
    "1. Select all the cars from Asia\n",
    "2. Select only columns `vehicle_weight` and `model_year`\n",
    "3. Select the first 7 values\n",
    "4. Get the underlying NumPy array. Let's call it `X`.\n",
    "5. Compute matrix-matrix multiplication between the transpose of `X` and `X`. To get the transpose, use `X.T`. Let's call the result `XTX`.\n",
    "6. Invert `XTX`.\n",
    "7. Create an array `y` with values `[1100, 1300, 800, 900, 1000, 1100, 1200]`.\n",
    "8. Multiply the inverse of `XTX` with the transpose of `X`, and then multiply the result by `y`. Call the result `w`.\n",
    "9. What's the sum of all the elements of the result?\n",
    "\n",
    "> **Note**: You just implemented linear regression. We'll talk about it in the next lesson.\n",
    "\n",
    "- 0.051\n",
    "- 0.51 [x]\n",
    "- 5.1\n",
    "- 51"
   ]
  },
  {
   "cell_type": "code",
   "execution_count": 18,
   "metadata": {},
   "outputs": [
    {
     "data": {
      "text/html": [
       "<div>\n",
       "<style scoped>\n",
       "    .dataframe tbody tr th:only-of-type {\n",
       "        vertical-align: middle;\n",
       "    }\n",
       "\n",
       "    .dataframe tbody tr th {\n",
       "        vertical-align: top;\n",
       "    }\n",
       "\n",
       "    .dataframe thead th {\n",
       "        text-align: right;\n",
       "    }\n",
       "</style>\n",
       "<table border=\"1\" class=\"dataframe\">\n",
       "  <thead>\n",
       "    <tr style=\"text-align: right;\">\n",
       "      <th></th>\n",
       "      <th>engine_displacement</th>\n",
       "      <th>num_cylinders</th>\n",
       "      <th>horsepower</th>\n",
       "      <th>vehicle_weight</th>\n",
       "      <th>acceleration</th>\n",
       "      <th>model_year</th>\n",
       "      <th>origin</th>\n",
       "      <th>fuel_type</th>\n",
       "      <th>drivetrain</th>\n",
       "      <th>num_doors</th>\n",
       "      <th>fuel_efficiency_mpg</th>\n",
       "    </tr>\n",
       "  </thead>\n",
       "  <tbody>\n",
       "    <tr>\n",
       "      <th>8</th>\n",
       "      <td>250</td>\n",
       "      <td>1.0</td>\n",
       "      <td>174.0</td>\n",
       "      <td>2714.219310</td>\n",
       "      <td>10.3</td>\n",
       "      <td>2016</td>\n",
       "      <td>Asia</td>\n",
       "      <td>Diesel</td>\n",
       "      <td>Front-wheel drive</td>\n",
       "      <td>-1.0</td>\n",
       "      <td>16.823554</td>\n",
       "    </tr>\n",
       "    <tr>\n",
       "      <th>12</th>\n",
       "      <td>320</td>\n",
       "      <td>5.0</td>\n",
       "      <td>145.0</td>\n",
       "      <td>2783.868974</td>\n",
       "      <td>15.1</td>\n",
       "      <td>2010</td>\n",
       "      <td>Asia</td>\n",
       "      <td>Diesel</td>\n",
       "      <td>All-wheel drive</td>\n",
       "      <td>1.0</td>\n",
       "      <td>16.175820</td>\n",
       "    </tr>\n",
       "    <tr>\n",
       "      <th>14</th>\n",
       "      <td>200</td>\n",
       "      <td>6.0</td>\n",
       "      <td>160.0</td>\n",
       "      <td>3582.687368</td>\n",
       "      <td>14.9</td>\n",
       "      <td>2007</td>\n",
       "      <td>Asia</td>\n",
       "      <td>Diesel</td>\n",
       "      <td>All-wheel drive</td>\n",
       "      <td>0.0</td>\n",
       "      <td>11.871091</td>\n",
       "    </tr>\n",
       "    <tr>\n",
       "      <th>20</th>\n",
       "      <td>150</td>\n",
       "      <td>3.0</td>\n",
       "      <td>197.0</td>\n",
       "      <td>2231.808142</td>\n",
       "      <td>18.7</td>\n",
       "      <td>2011</td>\n",
       "      <td>Asia</td>\n",
       "      <td>Gasoline</td>\n",
       "      <td>Front-wheel drive</td>\n",
       "      <td>1.0</td>\n",
       "      <td>18.889083</td>\n",
       "    </tr>\n",
       "    <tr>\n",
       "      <th>21</th>\n",
       "      <td>160</td>\n",
       "      <td>4.0</td>\n",
       "      <td>133.0</td>\n",
       "      <td>2659.431451</td>\n",
       "      <td>NaN</td>\n",
       "      <td>2016</td>\n",
       "      <td>Asia</td>\n",
       "      <td>Gasoline</td>\n",
       "      <td>Front-wheel drive</td>\n",
       "      <td>-1.0</td>\n",
       "      <td>16.077730</td>\n",
       "    </tr>\n",
       "    <tr>\n",
       "      <th>...</th>\n",
       "      <td>...</td>\n",
       "      <td>...</td>\n",
       "      <td>...</td>\n",
       "      <td>...</td>\n",
       "      <td>...</td>\n",
       "      <td>...</td>\n",
       "      <td>...</td>\n",
       "      <td>...</td>\n",
       "      <td>...</td>\n",
       "      <td>...</td>\n",
       "      <td>...</td>\n",
       "    </tr>\n",
       "    <tr>\n",
       "      <th>9688</th>\n",
       "      <td>260</td>\n",
       "      <td>4.0</td>\n",
       "      <td>152.0</td>\n",
       "      <td>3948.404625</td>\n",
       "      <td>15.5</td>\n",
       "      <td>2018</td>\n",
       "      <td>Asia</td>\n",
       "      <td>Diesel</td>\n",
       "      <td>All-wheel drive</td>\n",
       "      <td>-1.0</td>\n",
       "      <td>11.054830</td>\n",
       "    </tr>\n",
       "    <tr>\n",
       "      <th>9692</th>\n",
       "      <td>180</td>\n",
       "      <td>3.0</td>\n",
       "      <td>188.0</td>\n",
       "      <td>3680.341381</td>\n",
       "      <td>18.0</td>\n",
       "      <td>2016</td>\n",
       "      <td>Asia</td>\n",
       "      <td>Gasoline</td>\n",
       "      <td>Front-wheel drive</td>\n",
       "      <td>1.0</td>\n",
       "      <td>11.711653</td>\n",
       "    </tr>\n",
       "    <tr>\n",
       "      <th>9693</th>\n",
       "      <td>280</td>\n",
       "      <td>2.0</td>\n",
       "      <td>148.0</td>\n",
       "      <td>2545.070139</td>\n",
       "      <td>15.6</td>\n",
       "      <td>2012</td>\n",
       "      <td>Asia</td>\n",
       "      <td>Diesel</td>\n",
       "      <td>All-wheel drive</td>\n",
       "      <td>0.0</td>\n",
       "      <td>17.202782</td>\n",
       "    </tr>\n",
       "    <tr>\n",
       "      <th>9698</th>\n",
       "      <td>180</td>\n",
       "      <td>1.0</td>\n",
       "      <td>131.0</td>\n",
       "      <td>3107.427820</td>\n",
       "      <td>13.2</td>\n",
       "      <td>2005</td>\n",
       "      <td>Asia</td>\n",
       "      <td>Gasoline</td>\n",
       "      <td>Front-wheel drive</td>\n",
       "      <td>-2.0</td>\n",
       "      <td>13.933716</td>\n",
       "    </tr>\n",
       "    <tr>\n",
       "      <th>9703</th>\n",
       "      <td>270</td>\n",
       "      <td>3.0</td>\n",
       "      <td>140.0</td>\n",
       "      <td>2908.043477</td>\n",
       "      <td>14.7</td>\n",
       "      <td>2005</td>\n",
       "      <td>Asia</td>\n",
       "      <td>Diesel</td>\n",
       "      <td>All-wheel drive</td>\n",
       "      <td>-1.0</td>\n",
       "      <td>14.884467</td>\n",
       "    </tr>\n",
       "  </tbody>\n",
       "</table>\n",
       "<p>3247 rows × 11 columns</p>\n",
       "</div>"
      ],
      "text/plain": [
       "      engine_displacement  num_cylinders  horsepower  vehicle_weight  \\\n",
       "8                     250            1.0       174.0     2714.219310   \n",
       "12                    320            5.0       145.0     2783.868974   \n",
       "14                    200            6.0       160.0     3582.687368   \n",
       "20                    150            3.0       197.0     2231.808142   \n",
       "21                    160            4.0       133.0     2659.431451   \n",
       "...                   ...            ...         ...             ...   \n",
       "9688                  260            4.0       152.0     3948.404625   \n",
       "9692                  180            3.0       188.0     3680.341381   \n",
       "9693                  280            2.0       148.0     2545.070139   \n",
       "9698                  180            1.0       131.0     3107.427820   \n",
       "9703                  270            3.0       140.0     2908.043477   \n",
       "\n",
       "      acceleration  model_year origin fuel_type         drivetrain  num_doors  \\\n",
       "8             10.3        2016   Asia    Diesel  Front-wheel drive       -1.0   \n",
       "12            15.1        2010   Asia    Diesel    All-wheel drive        1.0   \n",
       "14            14.9        2007   Asia    Diesel    All-wheel drive        0.0   \n",
       "20            18.7        2011   Asia  Gasoline  Front-wheel drive        1.0   \n",
       "21             NaN        2016   Asia  Gasoline  Front-wheel drive       -1.0   \n",
       "...            ...         ...    ...       ...                ...        ...   \n",
       "9688          15.5        2018   Asia    Diesel    All-wheel drive       -1.0   \n",
       "9692          18.0        2016   Asia  Gasoline  Front-wheel drive        1.0   \n",
       "9693          15.6        2012   Asia    Diesel    All-wheel drive        0.0   \n",
       "9698          13.2        2005   Asia  Gasoline  Front-wheel drive       -2.0   \n",
       "9703          14.7        2005   Asia    Diesel    All-wheel drive       -1.0   \n",
       "\n",
       "      fuel_efficiency_mpg  \n",
       "8               16.823554  \n",
       "12              16.175820  \n",
       "14              11.871091  \n",
       "20              18.889083  \n",
       "21              16.077730  \n",
       "...                   ...  \n",
       "9688            11.054830  \n",
       "9692            11.711653  \n",
       "9693            17.202782  \n",
       "9698            13.933716  \n",
       "9703            14.884467  \n",
       "\n",
       "[3247 rows x 11 columns]"
      ]
     },
     "execution_count": 18,
     "metadata": {},
     "output_type": "execute_result"
    }
   ],
   "source": [
    "asian_cars = df[df.origin == 'Asia']\n",
    "asian_cars"
   ]
  },
  {
   "cell_type": "code",
   "execution_count": 19,
   "metadata": {},
   "outputs": [
    {
     "data": {
      "text/html": [
       "<div>\n",
       "<style scoped>\n",
       "    .dataframe tbody tr th:only-of-type {\n",
       "        vertical-align: middle;\n",
       "    }\n",
       "\n",
       "    .dataframe tbody tr th {\n",
       "        vertical-align: top;\n",
       "    }\n",
       "\n",
       "    .dataframe thead th {\n",
       "        text-align: right;\n",
       "    }\n",
       "</style>\n",
       "<table border=\"1\" class=\"dataframe\">\n",
       "  <thead>\n",
       "    <tr style=\"text-align: right;\">\n",
       "      <th></th>\n",
       "      <th>vehicle_weight</th>\n",
       "      <th>model_year</th>\n",
       "    </tr>\n",
       "  </thead>\n",
       "  <tbody>\n",
       "    <tr>\n",
       "      <th>8</th>\n",
       "      <td>2714.219310</td>\n",
       "      <td>2016</td>\n",
       "    </tr>\n",
       "    <tr>\n",
       "      <th>12</th>\n",
       "      <td>2783.868974</td>\n",
       "      <td>2010</td>\n",
       "    </tr>\n",
       "    <tr>\n",
       "      <th>14</th>\n",
       "      <td>3582.687368</td>\n",
       "      <td>2007</td>\n",
       "    </tr>\n",
       "    <tr>\n",
       "      <th>20</th>\n",
       "      <td>2231.808142</td>\n",
       "      <td>2011</td>\n",
       "    </tr>\n",
       "    <tr>\n",
       "      <th>21</th>\n",
       "      <td>2659.431451</td>\n",
       "      <td>2016</td>\n",
       "    </tr>\n",
       "    <tr>\n",
       "      <th>...</th>\n",
       "      <td>...</td>\n",
       "      <td>...</td>\n",
       "    </tr>\n",
       "    <tr>\n",
       "      <th>9688</th>\n",
       "      <td>3948.404625</td>\n",
       "      <td>2018</td>\n",
       "    </tr>\n",
       "    <tr>\n",
       "      <th>9692</th>\n",
       "      <td>3680.341381</td>\n",
       "      <td>2016</td>\n",
       "    </tr>\n",
       "    <tr>\n",
       "      <th>9693</th>\n",
       "      <td>2545.070139</td>\n",
       "      <td>2012</td>\n",
       "    </tr>\n",
       "    <tr>\n",
       "      <th>9698</th>\n",
       "      <td>3107.427820</td>\n",
       "      <td>2005</td>\n",
       "    </tr>\n",
       "    <tr>\n",
       "      <th>9703</th>\n",
       "      <td>2908.043477</td>\n",
       "      <td>2005</td>\n",
       "    </tr>\n",
       "  </tbody>\n",
       "</table>\n",
       "<p>3247 rows × 2 columns</p>\n",
       "</div>"
      ],
      "text/plain": [
       "      vehicle_weight  model_year\n",
       "8        2714.219310        2016\n",
       "12       2783.868974        2010\n",
       "14       3582.687368        2007\n",
       "20       2231.808142        2011\n",
       "21       2659.431451        2016\n",
       "...              ...         ...\n",
       "9688     3948.404625        2018\n",
       "9692     3680.341381        2016\n",
       "9693     2545.070139        2012\n",
       "9698     3107.427820        2005\n",
       "9703     2908.043477        2005\n",
       "\n",
       "[3247 rows x 2 columns]"
      ]
     },
     "execution_count": 19,
     "metadata": {},
     "output_type": "execute_result"
    }
   ],
   "source": [
    "ac_weight_year = asian_cars[['vehicle_weight', 'model_year']]\n",
    "ac_weight_year"
   ]
  },
  {
   "cell_type": "code",
   "execution_count": 20,
   "metadata": {},
   "outputs": [
    {
     "data": {
      "text/html": [
       "<div>\n",
       "<style scoped>\n",
       "    .dataframe tbody tr th:only-of-type {\n",
       "        vertical-align: middle;\n",
       "    }\n",
       "\n",
       "    .dataframe tbody tr th {\n",
       "        vertical-align: top;\n",
       "    }\n",
       "\n",
       "    .dataframe thead th {\n",
       "        text-align: right;\n",
       "    }\n",
       "</style>\n",
       "<table border=\"1\" class=\"dataframe\">\n",
       "  <thead>\n",
       "    <tr style=\"text-align: right;\">\n",
       "      <th></th>\n",
       "      <th>vehicle_weight</th>\n",
       "      <th>model_year</th>\n",
       "    </tr>\n",
       "  </thead>\n",
       "  <tbody>\n",
       "    <tr>\n",
       "      <th>8</th>\n",
       "      <td>2714.219310</td>\n",
       "      <td>2016</td>\n",
       "    </tr>\n",
       "    <tr>\n",
       "      <th>12</th>\n",
       "      <td>2783.868974</td>\n",
       "      <td>2010</td>\n",
       "    </tr>\n",
       "    <tr>\n",
       "      <th>14</th>\n",
       "      <td>3582.687368</td>\n",
       "      <td>2007</td>\n",
       "    </tr>\n",
       "    <tr>\n",
       "      <th>20</th>\n",
       "      <td>2231.808142</td>\n",
       "      <td>2011</td>\n",
       "    </tr>\n",
       "    <tr>\n",
       "      <th>21</th>\n",
       "      <td>2659.431451</td>\n",
       "      <td>2016</td>\n",
       "    </tr>\n",
       "    <tr>\n",
       "      <th>34</th>\n",
       "      <td>2844.227534</td>\n",
       "      <td>2014</td>\n",
       "    </tr>\n",
       "    <tr>\n",
       "      <th>38</th>\n",
       "      <td>3761.994038</td>\n",
       "      <td>2019</td>\n",
       "    </tr>\n",
       "  </tbody>\n",
       "</table>\n",
       "</div>"
      ],
      "text/plain": [
       "    vehicle_weight  model_year\n",
       "8      2714.219310        2016\n",
       "12     2783.868974        2010\n",
       "14     3582.687368        2007\n",
       "20     2231.808142        2011\n",
       "21     2659.431451        2016\n",
       "34     2844.227534        2014\n",
       "38     3761.994038        2019"
      ]
     },
     "execution_count": 20,
     "metadata": {},
     "output_type": "execute_result"
    }
   ],
   "source": [
    "ac_weight_year.iloc[:7]"
   ]
  },
  {
   "cell_type": "code",
   "execution_count": 21,
   "metadata": {},
   "outputs": [
    {
     "data": {
      "text/plain": [
       "array([[2714.21930965, 2016.        ],\n",
       "       [2783.86897424, 2010.        ],\n",
       "       [3582.68736772, 2007.        ],\n",
       "       [2231.8081416 , 2011.        ],\n",
       "       [2659.43145076, 2016.        ],\n",
       "       [2844.22753389, 2014.        ],\n",
       "       [3761.99403819, 2019.        ]])"
      ]
     },
     "execution_count": 21,
     "metadata": {},
     "output_type": "execute_result"
    }
   ],
   "source": [
    "X = ac_weight_year.iloc[:7].values\n",
    "X"
   ]
  },
  {
   "cell_type": "code",
   "execution_count": 22,
   "metadata": {},
   "outputs": [
    {
     "data": {
      "text/plain": [
       "array([[2714.21930965, 2783.86897424, 3582.68736772, 2231.8081416 ,\n",
       "        2659.43145076, 2844.22753389, 3761.99403819],\n",
       "       [2016.        , 2010.        , 2007.        , 2011.        ,\n",
       "        2016.        , 2014.        , 2019.        ]])"
      ]
     },
     "execution_count": 22,
     "metadata": {},
     "output_type": "execute_result"
    }
   ],
   "source": [
    "X_T = X.T\n",
    "X_T"
   ]
  },
  {
   "cell_type": "code",
   "execution_count": 23,
   "metadata": {},
   "outputs": [
    {
     "data": {
      "text/plain": [
       "array([[62248334.33150762, 41431216.5073268 ],\n",
       "       [41431216.5073268 , 28373339.        ]])"
      ]
     },
     "execution_count": 23,
     "metadata": {},
     "output_type": "execute_result"
    }
   ],
   "source": [
    "XTX = np.dot(X_T, X)\n",
    "XTX"
   ]
  },
  {
   "cell_type": "code",
   "execution_count": 24,
   "metadata": {},
   "outputs": [
    {
     "data": {
      "text/plain": [
       "array([[62248334.33150762, 41431216.5073268 ],\n",
       "       [41431216.5073268 , 28373339.        ]])"
      ]
     },
     "execution_count": 24,
     "metadata": {},
     "output_type": "execute_result"
    }
   ],
   "source": [
    "XTX = np.dot(X_T, X)\n",
    "XTX"
   ]
  },
  {
   "cell_type": "code",
   "execution_count": 25,
   "metadata": {},
   "outputs": [
    {
     "data": {
      "text/plain": [
       "array([[ 5.71497081e-07, -8.34509443e-07],\n",
       "       [-8.34509443e-07,  1.25380877e-06]])"
      ]
     },
     "execution_count": 25,
     "metadata": {},
     "output_type": "execute_result"
    }
   ],
   "source": [
    "inv_XTX = np.linalg.inv(XTX)\n",
    "inv_XTX"
   ]
  },
  {
   "cell_type": "code",
   "execution_count": 26,
   "metadata": {},
   "outputs": [],
   "source": [
    "y = np.array([1100, 1300, 800, 900, 1000, 1100, 1200])"
   ]
  },
  {
   "cell_type": "code",
   "execution_count": 27,
   "metadata": {},
   "outputs": [],
   "source": [
    "inv_dot_t = np.dot(inv_XTX, X_T)"
   ]
  },
  {
   "cell_type": "code",
   "execution_count": 28,
   "metadata": {},
   "outputs": [],
   "source": [
    "w = np.dot(inv_dot_t, y)"
   ]
  },
  {
   "cell_type": "code",
   "execution_count": 29,
   "metadata": {},
   "outputs": [
    {
     "data": {
      "text/plain": [
       "np.float64(0.5187709081074016)"
      ]
     },
     "execution_count": 29,
     "metadata": {},
     "output_type": "execute_result"
    }
   ],
   "source": [
    "sum(w)"
   ]
  }
 ],
 "metadata": {
  "kernelspec": {
   "display_name": ".venv",
   "language": "python",
   "name": "python3"
  },
  "language_info": {
   "codemirror_mode": {
    "name": "ipython",
    "version": 3
   },
   "file_extension": ".py",
   "mimetype": "text/x-python",
   "name": "python",
   "nbconvert_exporter": "python",
   "pygments_lexer": "ipython3",
   "version": "3.11.10"
  }
 },
 "nbformat": 4,
 "nbformat_minor": 2
}
