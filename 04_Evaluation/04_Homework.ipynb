{
 "cells": [
  {
   "cell_type": "markdown",
   "metadata": {},
   "source": [
    "# Module 4 Homework: Evaluation\n",
    "By Shanice Williams"
   ]
  },
  {
   "cell_type": "code",
   "execution_count": 1,
   "metadata": {},
   "outputs": [],
   "source": [
    "# imports\n",
    "import pandas as pd\n",
    "import numpy as np\n",
    "\n",
    "\n",
    "import matplotlib.pyplot as plt \n",
    "import seaborn as sns\n",
    "\n",
    "from tqdm.auto import tqdm"
   ]
  },
  {
   "cell_type": "markdown",
   "metadata": {},
   "source": [
    "### Data preparation\n",
    "\n",
    "- Check if the missing values are presented in the features.\n",
    "- If there are missing values:\n",
    "    - For caterogiral features, replace them with 'NA'\n",
    "    - For numerical features, replace with with 0.0\n",
    "\n",
    "Split the data into 3 parts: train/validation/test with 60%/20%/20% distribution. Use `train_test_split` function for that with `random_state=1`"
   ]
  },
  {
   "cell_type": "code",
   "execution_count": 2,
   "metadata": {},
   "outputs": [],
   "source": [
    "df = pd.read_csv(\"./data/course_lead_scoring.csv\")"
   ]
  },
  {
   "cell_type": "code",
   "execution_count": 3,
   "metadata": {},
   "outputs": [
    {
     "data": {
      "text/plain": [
       "lead_source                 128\n",
       "industry                    134\n",
       "number_of_courses_viewed      0\n",
       "annual_income               181\n",
       "employment_status           100\n",
       "location                     63\n",
       "interaction_count             0\n",
       "lead_score                    0\n",
       "converted                     0\n",
       "dtype: int64"
      ]
     },
     "execution_count": 3,
     "metadata": {},
     "output_type": "execute_result"
    }
   ],
   "source": [
    "df.isnull().sum()"
   ]
  },
  {
   "cell_type": "code",
   "execution_count": 4,
   "metadata": {},
   "outputs": [
    {
     "name": "stdout",
     "output_type": "stream",
     "text": [
      "<class 'pandas.core.frame.DataFrame'>\n",
      "RangeIndex: 1462 entries, 0 to 1461\n",
      "Data columns (total 9 columns):\n",
      " #   Column                    Non-Null Count  Dtype  \n",
      "---  ------                    --------------  -----  \n",
      " 0   lead_source               1334 non-null   object \n",
      " 1   industry                  1328 non-null   object \n",
      " 2   number_of_courses_viewed  1462 non-null   int64  \n",
      " 3   annual_income             1281 non-null   float64\n",
      " 4   employment_status         1362 non-null   object \n",
      " 5   location                  1399 non-null   object \n",
      " 6   interaction_count         1462 non-null   int64  \n",
      " 7   lead_score                1462 non-null   float64\n",
      " 8   converted                 1462 non-null   int64  \n",
      "dtypes: float64(2), int64(3), object(4)\n",
      "memory usage: 102.9+ KB\n"
     ]
    }
   ],
   "source": [
    "df.info()"
   ]
  },
  {
   "cell_type": "markdown",
   "metadata": {},
   "source": [
    "We do have several columns that have missing values, 4 of which are object type and one numarical."
   ]
  },
  {
   "cell_type": "markdown",
   "metadata": {},
   "source": [
    "#### Dealing with object type null values"
   ]
  },
  {
   "cell_type": "code",
   "execution_count": 5,
   "metadata": {},
   "outputs": [
    {
     "data": {
      "text/plain": [
       "['lead_source', 'industry', 'employment_status', 'location']"
      ]
     },
     "execution_count": 5,
     "metadata": {},
     "output_type": "execute_result"
    }
   ],
   "source": [
    "categorical_columns = list(df.dtypes[df.dtypes == 'object'].index)\n",
    "categorical_columns"
   ]
  },
  {
   "cell_type": "code",
   "execution_count": 6,
   "metadata": {},
   "outputs": [],
   "source": [
    "for cat in categorical_columns:\n",
    "    df[cat] = df[cat].fillna('NA')"
   ]
  },
  {
   "cell_type": "code",
   "execution_count": 7,
   "metadata": {},
   "outputs": [
    {
     "data": {
      "text/plain": [
       "lead_source                   0\n",
       "industry                      0\n",
       "number_of_courses_viewed      0\n",
       "annual_income               181\n",
       "employment_status             0\n",
       "location                      0\n",
       "interaction_count             0\n",
       "lead_score                    0\n",
       "converted                     0\n",
       "dtype: int64"
      ]
     },
     "execution_count": 7,
     "metadata": {},
     "output_type": "execute_result"
    }
   ],
   "source": [
    "df.isnull().sum()"
   ]
  },
  {
   "cell_type": "markdown",
   "metadata": {},
   "source": [
    "#### Dealing with numerical type null values"
   ]
  },
  {
   "cell_type": "code",
   "execution_count": 8,
   "metadata": {},
   "outputs": [
    {
     "data": {
      "text/plain": [
       "['number_of_courses_viewed',\n",
       " 'annual_income',\n",
       " 'interaction_count',\n",
       " 'lead_score',\n",
       " 'converted']"
      ]
     },
     "execution_count": 8,
     "metadata": {},
     "output_type": "execute_result"
    }
   ],
   "source": [
    "numerical_columns = list(df.dtypes[df.dtypes != 'object'].index)\n",
    "numerical_columns"
   ]
  },
  {
   "cell_type": "code",
   "execution_count": 9,
   "metadata": {},
   "outputs": [],
   "source": [
    "for num in numerical_columns:\n",
    "    df[num] = df[num].fillna(0.0)"
   ]
  },
  {
   "cell_type": "code",
   "execution_count": 10,
   "metadata": {},
   "outputs": [
    {
     "data": {
      "text/plain": [
       "lead_source                 0\n",
       "industry                    0\n",
       "number_of_courses_viewed    0\n",
       "annual_income               0\n",
       "employment_status           0\n",
       "location                    0\n",
       "interaction_count           0\n",
       "lead_score                  0\n",
       "converted                   0\n",
       "dtype: int64"
      ]
     },
     "execution_count": 10,
     "metadata": {},
     "output_type": "execute_result"
    }
   ],
   "source": [
    "df.isnull().sum()"
   ]
  },
  {
   "cell_type": "markdown",
   "metadata": {},
   "source": [
    "#### Creating train val test split"
   ]
  },
  {
   "cell_type": "code",
   "execution_count": 11,
   "metadata": {},
   "outputs": [],
   "source": [
    "from sklearn.model_selection import train_test_split"
   ]
  },
  {
   "cell_type": "code",
   "execution_count": 12,
   "metadata": {},
   "outputs": [],
   "source": [
    "df_full_train, df_test = train_test_split(df, test_size=0.2, random_state=1)\n",
    "df_train, df_val = train_test_split(df_full_train, test_size=0.25, random_state=1)\n",
    "\n",
    "df_train = df_train.reset_index(drop=True)\n",
    "df_val = df_val.reset_index(drop=True)\n",
    "df_test = df_test.reset_index(drop=True)\n",
    "\n",
    "y_train = df_train.converted.values\n",
    "y_val = df_val.converted.values\n",
    "y_test = df_test.converted.values\n",
    "\n",
    "del df_train['converted']\n",
    "del df_val['converted']\n",
    "del df_test['converted']"
   ]
  },
  {
   "cell_type": "code",
   "execution_count": 13,
   "metadata": {},
   "outputs": [
    {
     "name": "stdout",
     "output_type": "stream",
     "text": [
      "(876, 8) (293, 8) (293, 8)\n"
     ]
    }
   ],
   "source": [
    "print(df_train.shape, df_val.shape, df_test.shape)"
   ]
  },
  {
   "cell_type": "markdown",
   "metadata": {},
   "source": [
    "### Question 1: ROC AUC feature importance\n",
    "\n",
    "ROC AUC could also be used to evaluate feature importance of numerical variables.\n",
    "\n",
    "Let's do that\n",
    "- For each numerical variable, use it as score (aka prediction) and compute the AUC with the `y` variable as ground truth.\n",
    "- Use the training dataset for that\n",
    "\n",
    "If your AUC is < 0.5, invert this variable by putting \"-\" in front\n",
    "\n",
    "(e.g. `-df_train['balance']`)\n",
    "\n",
    "AUC can go below 0.5 if the variable is negatively correlated with the target variable. You can change the direction of the correlation by negating this variable - then negative correlation becomes positive.\n",
    "\n",
    "Which numerical variable (among the following 4) has the highest AUC?\n",
    "\n",
    "- `lead_score`\n",
    "- `number_of_courses_viewed` [X]\n",
    "- `interaction_count`\n",
    "- `annual_income`\n"
   ]
  },
  {
   "cell_type": "code",
   "execution_count": 14,
   "metadata": {},
   "outputs": [],
   "source": [
    "from sklearn.metrics import roc_auc_score"
   ]
  },
  {
   "cell_type": "code",
   "execution_count": 15,
   "metadata": {},
   "outputs": [
    {
     "data": {
      "text/plain": [
       "['number_of_courses_viewed',\n",
       " 'annual_income',\n",
       " 'interaction_count',\n",
       " 'lead_score']"
      ]
     },
     "execution_count": 15,
     "metadata": {},
     "output_type": "execute_result"
    }
   ],
   "source": [
    "numerical_columns = list(df_train.dtypes[df.dtypes != 'object'].index)\n",
    "numerical_columns"
   ]
  },
  {
   "cell_type": "code",
   "execution_count": 16,
   "metadata": {},
   "outputs": [
    {
     "data": {
      "text/plain": [
       "{'number_of_courses_viewed': 0.7635680590007088,\n",
       " 'annual_income': 0.5519578313253012,\n",
       " 'interaction_count': 0.738270176293409,\n",
       " 'lead_score': 0.6144993577250176}"
      ]
     },
     "execution_count": 16,
     "metadata": {},
     "output_type": "execute_result"
    }
   ],
   "source": [
    "scores = {}\n",
    "for num in numerical_columns:\n",
    "    scores[num] = roc_auc_score(y_train, df_train[num])\n",
    "\n",
    "scores\n"
   ]
  },
  {
   "cell_type": "markdown",
   "metadata": {},
   "source": [
    "### Question 2: Training the model\n",
    "\n",
    "Apply one-hot-encoding using `DictVectorizer` and train the logistic regression with these parameters:\n",
    "\n",
    "```python\n",
    "LogisticRegression(solver='liblinear', C=1.0, max_iter=1000)\n",
    "```\n",
    "\n",
    "What's the AUC of this model on the validation dataset? (round to 3 digits)\n",
    "\n",
    "- 0.32\n",
    "- 0.52\n",
    "- 0.72\n",
    "- 0.92 [X]"
   ]
  },
  {
   "cell_type": "code",
   "execution_count": 17,
   "metadata": {},
   "outputs": [],
   "source": [
    "from sklearn.feature_extraction import DictVectorizer\n",
    "from sklearn.linear_model import LogisticRegression"
   ]
  },
  {
   "cell_type": "code",
   "execution_count": 18,
   "metadata": {},
   "outputs": [],
   "source": [
    "categorical = list(df_train.dtypes[df.dtypes == 'object'].index)\n",
    "numerical = list(df_train.dtypes[df.dtypes != 'object'].index)"
   ]
  },
  {
   "cell_type": "code",
   "execution_count": 19,
   "metadata": {},
   "outputs": [],
   "source": [
    "def train(df_train, y_train):\n",
    "    dicts = df_train[categorical + numerical].to_dict(orient='records')\n",
    "    \n",
    "    dv = DictVectorizer(sparse=False)\n",
    "    X_train = dv.fit_transform(dicts)\n",
    "\n",
    "    model = LogisticRegression(solver='liblinear', C=1.0, max_iter=1000)\n",
    "    model.fit(X_train, y_train)\n",
    "\n",
    "    return dv, model"
   ]
  },
  {
   "cell_type": "code",
   "execution_count": 20,
   "metadata": {},
   "outputs": [],
   "source": [
    "def predict(df, dv, model):\n",
    "    dicts = df[categorical + numerical].to_dict(orient='records')\n",
    "    X = dv.transform(dicts)\n",
    "    y_pred = model.predict_proba(X)[:, 1]\n",
    "\n",
    "    return y_pred"
   ]
  },
  {
   "cell_type": "code",
   "execution_count": 21,
   "metadata": {},
   "outputs": [
    {
     "data": {
      "text/plain": [
       "np.float64(0.817)"
      ]
     },
     "execution_count": 21,
     "metadata": {},
     "output_type": "execute_result"
    }
   ],
   "source": [
    "dv, model = train(df_train, y_train)\n",
    "y_pred = predict(df_val, dv, model)\n",
    "\n",
    "auc = roc_auc_score(y_val, y_pred)\n",
    "np.round(auc, 3)"
   ]
  },
  {
   "cell_type": "markdown",
   "metadata": {},
   "source": [
    "#### Trying with Standard Scaler"
   ]
  },
  {
   "cell_type": "code",
   "execution_count": 22,
   "metadata": {},
   "outputs": [],
   "source": [
    "from sklearn.preprocessing import StandardScaler"
   ]
  },
  {
   "cell_type": "code",
   "execution_count": 23,
   "metadata": {},
   "outputs": [],
   "source": [
    "def train_with_scaler(df_train, y_train):\n",
    "    dicts = df_train[categorical + numerical].to_dict(orient='records')\n",
    "    \n",
    "    dv = DictVectorizer(sparse=False)\n",
    "    X_train = dv.fit_transform(dicts)\n",
    "\n",
    "    scaler = StandardScaler()\n",
    "    X_train_scaled = scaler.fit_transform(X_train)\n",
    "\n",
    "    model = LogisticRegression(solver='liblinear', C=1.0, max_iter=1000)\n",
    "    model.fit(X_train_scaled, y_train)\n",
    "\n",
    "    return dv, model"
   ]
  },
  {
   "cell_type": "code",
   "execution_count": 24,
   "metadata": {},
   "outputs": [],
   "source": [
    "def predict_with_scaler(df, dv, model):\n",
    "    dicts = df[categorical + numerical].to_dict(orient='records')\n",
    "    X = dv.transform(dicts)\n",
    "    scaler = StandardScaler()\n",
    "    X_scaled = scaler.fit_transform(X)\n",
    "    y_pred = model.predict_proba(X_scaled)[:, 1]\n",
    "\n",
    "    return y_pred"
   ]
  },
  {
   "cell_type": "code",
   "execution_count": 25,
   "metadata": {},
   "outputs": [
    {
     "data": {
      "text/plain": [
       "np.float64(0.92)"
      ]
     },
     "execution_count": 25,
     "metadata": {},
     "output_type": "execute_result"
    }
   ],
   "source": [
    "dv, model = train_with_scaler(df_train, y_train)\n",
    "y_pred = predict_with_scaler(df_val, dv, model)\n",
    "\n",
    "auc = roc_auc_score(y_val, y_pred)\n",
    "np.round(auc, 3)"
   ]
  },
  {
   "cell_type": "markdown",
   "metadata": {},
   "source": [
    "### Question 3: Precision and Recall\n",
    "\n",
    "Now let's compute precision and recall for our model.\n",
    "\n",
    "* Evaluate the model on all thresholds from 0.0 to 1.0 with step 0.01\n",
    "* For each threshold, compute precision and recall\n",
    "* Plot them\n",
    "\n",
    "At which threshold precision and recall curves intersect?\n",
    "\n",
    "* 0.145\n",
    "* 0.345\n",
    "* 0.545 [X]\n",
    "* 0.745"
   ]
  },
  {
   "cell_type": "code",
   "execution_count": 26,
   "metadata": {},
   "outputs": [],
   "source": [
    "from sklearn.metrics import precision_score, recall_score, precision_recall_curve"
   ]
  },
  {
   "cell_type": "code",
   "execution_count": 28,
   "metadata": {},
   "outputs": [],
   "source": [
    "thresholds = np.arange(0.0, 1.0, 0.01)"
   ]
  },
  {
   "cell_type": "code",
   "execution_count": 29,
   "metadata": {},
   "outputs": [
    {
     "data": {
      "text/plain": [
       "{np.float64(0.0): [0.5836177474402731, 1.0],\n",
       " np.float64(0.01): [0.5958188153310104, 1.0],\n",
       " np.float64(0.02): [0.608540925266904, 1.0],\n",
       " np.float64(0.03): [0.6115107913669064, 0.9941520467836257],\n",
       " np.float64(0.04): [0.6204379562043796, 0.9941520467836257],\n",
       " np.float64(0.05): [0.6282527881040892, 0.9883040935672515],\n",
       " np.float64(0.06): [0.6305970149253731, 0.9883040935672515],\n",
       " np.float64(0.07): [0.6377358490566037, 0.9883040935672515],\n",
       " np.float64(0.08): [0.6377358490566037, 0.9883040935672515],\n",
       " np.float64(0.09): [0.6387832699619772, 0.9824561403508771],\n",
       " np.float64(0.1): [0.6412213740458015, 0.9824561403508771],\n",
       " np.float64(0.11): [0.6436781609195402, 0.9824561403508771],\n",
       " np.float64(0.12): [0.6511627906976745, 0.9824561403508771],\n",
       " np.float64(0.13): [0.6536964980544747, 0.9824561403508771],\n",
       " np.float64(0.14): [0.6536964980544747, 0.9824561403508771],\n",
       " np.float64(0.15): [0.6640316205533597, 0.9824561403508771],\n",
       " np.float64(0.16): [0.6666666666666666, 0.9824561403508771],\n",
       " np.float64(0.17): [0.6706827309236948, 0.9766081871345029],\n",
       " np.float64(0.18): [0.6761133603238867, 0.9766081871345029],\n",
       " np.float64(0.19): [0.6859504132231405, 0.9707602339181286],\n",
       " np.float64(0.2): [0.694560669456067, 0.9707602339181286],\n",
       " np.float64(0.21): [0.7081545064377682, 0.9649122807017544],\n",
       " np.float64(0.22): [0.7112068965517241, 0.9649122807017544],\n",
       " np.float64(0.23): [0.7236842105263158, 0.9649122807017544],\n",
       " np.float64(0.24): [0.7224669603524229, 0.9590643274853801],\n",
       " np.float64(0.25): [0.7224669603524229, 0.9590643274853801],\n",
       " np.float64(0.26): [0.7354260089686099, 0.9590643274853801],\n",
       " np.float64(0.27): [0.7454545454545455, 0.9590643274853801],\n",
       " np.float64(0.28): [0.7522935779816514, 0.9590643274853801],\n",
       " np.float64(0.29): [0.7546296296296297, 0.9532163742690059],\n",
       " np.float64(0.3): [0.7581395348837209, 0.9532163742690059],\n",
       " np.float64(0.31): [0.7616822429906542, 0.9532163742690059],\n",
       " np.float64(0.32): [0.7652582159624414, 0.9532163742690059],\n",
       " np.float64(0.33): [0.7725118483412322, 0.9532163742690059],\n",
       " np.float64(0.34): [0.7777777777777778, 0.9415204678362573],\n",
       " np.float64(0.35000000000000003): [0.7892156862745098, 0.9415204678362573],\n",
       " np.float64(0.36): [0.7931034482758621, 0.9415204678362573],\n",
       " np.float64(0.37): [0.7970297029702971, 0.9415204678362573],\n",
       " np.float64(0.38): [0.8080808080808081, 0.935672514619883],\n",
       " np.float64(0.39): [0.8071065989847716, 0.9298245614035088],\n",
       " np.float64(0.4): [0.8153846153846154, 0.9298245614035088],\n",
       " np.float64(0.41000000000000003): [0.8186528497409327, 0.9239766081871345],\n",
       " np.float64(0.42): [0.8177083333333334, 0.9181286549707602],\n",
       " np.float64(0.43): [0.8297872340425532, 0.9122807017543859],\n",
       " np.float64(0.44): [0.8288770053475936, 0.9064327485380117],\n",
       " np.float64(0.45): [0.8333333333333334, 0.9064327485380117],\n",
       " np.float64(0.46): [0.8324324324324325, 0.9005847953216374],\n",
       " np.float64(0.47000000000000003): [0.8324324324324325, 0.9005847953216374],\n",
       " np.float64(0.48): [0.8369565217391305, 0.9005847953216374],\n",
       " np.float64(0.49): [0.8369565217391305, 0.9005847953216374],\n",
       " np.float64(0.5): [0.8415300546448088, 0.9005847953216374],\n",
       " np.float64(0.51): [0.8555555555555555, 0.9005847953216374],\n",
       " np.float64(0.52): [0.8539325842696629, 0.8888888888888888],\n",
       " np.float64(0.53): [0.8587570621468926, 0.8888888888888888],\n",
       " np.float64(0.54): [0.8685714285714285, 0.8888888888888888],\n",
       " np.float64(0.55): [0.8786127167630058, 0.8888888888888888],\n",
       " np.float64(0.56): [0.8771929824561403, 0.8771929824561403],\n",
       " np.float64(0.5700000000000001): [0.875, 0.8596491228070176],\n",
       " np.float64(0.58): [0.8848484848484849, 0.8538011695906432],\n",
       " np.float64(0.59): [0.8848484848484849, 0.8538011695906432],\n",
       " np.float64(0.6): [0.9006211180124224, 0.847953216374269],\n",
       " np.float64(0.61): [0.9, 0.8421052631578947],\n",
       " np.float64(0.62): [0.9, 0.8421052631578947],\n",
       " np.float64(0.63): [0.89937106918239, 0.8362573099415205],\n",
       " np.float64(0.64): [0.8987341772151899, 0.8304093567251462],\n",
       " np.float64(0.65): [0.8980891719745223, 0.8245614035087719],\n",
       " np.float64(0.66): [0.9096774193548387, 0.8245614035087719],\n",
       " np.float64(0.67): [0.9150326797385621, 0.8187134502923976],\n",
       " np.float64(0.68): [0.9210526315789473, 0.8187134502923976],\n",
       " np.float64(0.6900000000000001): [0.9261744966442953, 0.8070175438596491],\n",
       " np.float64(0.7000000000000001): [0.9256756756756757, 0.8011695906432749],\n",
       " np.float64(0.71): [0.9256756756756757, 0.8011695906432749],\n",
       " np.float64(0.72): [0.9251700680272109, 0.7953216374269005],\n",
       " np.float64(0.73): [0.9315068493150684, 0.7953216374269005],\n",
       " np.float64(0.74): [0.9436619718309859, 0.783625730994152],\n",
       " np.float64(0.75): [0.9432624113475178, 0.7777777777777778],\n",
       " np.float64(0.76): [0.9432624113475178, 0.7777777777777778],\n",
       " np.float64(0.77): [0.9432624113475178, 0.7777777777777778],\n",
       " np.float64(0.78): [0.9428571428571428, 0.7719298245614035],\n",
       " np.float64(0.79): [0.9492753623188406, 0.7660818713450293],\n",
       " np.float64(0.8): [0.9485294117647058, 0.7543859649122807],\n",
       " np.float64(0.81): [0.9481481481481482, 0.7485380116959064],\n",
       " np.float64(0.8200000000000001): [0.9473684210526315, 0.7368421052631579],\n",
       " np.float64(0.8300000000000001): [0.946969696969697, 0.7309941520467836],\n",
       " np.float64(0.84): [0.9453125, 0.7076023391812866],\n",
       " np.float64(0.85): [0.9523809523809523, 0.7017543859649122],\n",
       " np.float64(0.86): [0.9516129032258065, 0.6900584795321637],\n",
       " np.float64(0.87): [0.9512195121951219, 0.6842105263157895],\n",
       " np.float64(0.88): [0.9491525423728814, 0.6549707602339181],\n",
       " np.float64(0.89): [0.9482758620689655, 0.6432748538011696],\n",
       " np.float64(0.9): [0.9459459459459459, 0.6140350877192983],\n",
       " np.float64(0.91): [0.9523809523809523, 0.5847953216374269],\n",
       " np.float64(0.92): [0.9603960396039604, 0.5672514619883041],\n",
       " np.float64(0.93): [0.9583333333333334, 0.5380116959064327],\n",
       " np.float64(0.9400000000000001): [0.9550561797752809, 0.49707602339181284],\n",
       " np.float64(0.9500000000000001): [0.9523809523809523, 0.4678362573099415],\n",
       " np.float64(0.96): [0.9722222222222222, 0.4093567251461988],\n",
       " np.float64(0.97): [1.0, 0.3742690058479532],\n",
       " np.float64(0.98): [1.0, 0.3216374269005848],\n",
       " np.float64(0.99): [1.0, 0.23391812865497075]}"
      ]
     },
     "execution_count": 29,
     "metadata": {},
     "output_type": "execute_result"
    }
   ],
   "source": [
    "p_r_scores = {}\n",
    "for t in thresholds:\n",
    "    p_r_scores[t] = [precision_score(y_val, (y_pred>= t)), recall_score(y_val, (y_pred>= t))]\n",
    "\n",
    "p_r_scores"
   ]
  },
  {
   "cell_type": "code",
   "execution_count": 33,
   "metadata": {},
   "outputs": [],
   "source": [
    "threshold_df = pd.DataFrame.from_dict(p_r_scores, orient='index',\n",
    "                                      columns=['precision', 'recall', ])"
   ]
  },
  {
   "cell_type": "code",
   "execution_count": 45,
   "metadata": {},
   "outputs": [
    {
     "data": {
      "text/plain": [
       "Text(0.5, 1.0, 'Decision Threshold v Precision and Recall Scores')"
      ]
     },
     "execution_count": 45,
     "metadata": {},
     "output_type": "execute_result"
    },
    {
     "data": {
      "image/png": "[encoded data removed]",
      "text/plain": [
       "<Figure size 500x500 with 1 Axes>"
      ]
     },
     "metadata": {},
     "output_type": "display_data"
    }
   ],
   "source": [
    "plt.figure(figsize=(5,5))\n",
    "sns.lineplot(threshold_df)\n",
    "plt.xlabel(\"Decision Threshold\")\n",
    "plt.ylabel(\"Score\")\n",
    "plt.title(\"Decision Threshold v Precision and Recall Scores\")\n",
    "# plt.axhline(0.875, c='r', ls=':')\n",
    "# plt.axvline(0.555, c='r', ls=':')"
   ]
  },
  {
   "cell_type": "markdown",
   "metadata": {},
   "source": [
    "### Question 4: F1 score\n",
    "\n",
    "Precision and recall are conflicting - when one grows, the other goes down. That's why they are often combined into the F1 score - a metrics that takes into account both\n",
    "\n",
    "This is the formula for computing F1:\n",
    "\n",
    "$$F_1 = 2 \\cdot \\cfrac{P \\cdot R}{P + R}$$\n",
    "\n",
    "Where $P$ is precision and $R$ is recall.\n",
    "\n",
    "Let's compute F1 for all thresholds from 0.0 to 1.0 with increment 0.01\n",
    "\n",
    "At which threshold F1 is maximal?\n",
    "\n",
    "- 0.14\n",
    "- 0.34\n",
    "- 0.54 [X]\n",
    "- 0.74"
   ]
  },
  {
   "cell_type": "code",
   "execution_count": 46,
   "metadata": {},
   "outputs": [],
   "source": [
    "from sklearn.metrics import f1_score"
   ]
  },
  {
   "cell_type": "code",
   "execution_count": 47,
   "metadata": {},
   "outputs": [],
   "source": [
    "f1_scores = {}\n",
    "for t in thresholds:\n",
    "    f1_scores[t] = [f1_score(y_val, (y_pred>= t))]"
   ]
  },
  {
   "cell_type": "code",
   "execution_count": 49,
   "metadata": {},
   "outputs": [
    {
     "data": {
      "text/plain": [
       "np.float64(0.55)"
      ]
     },
     "execution_count": 49,
     "metadata": {},
     "output_type": "execute_result"
    }
   ],
   "source": [
    "res = max(f1_scores, key=f1_scores.get)\n",
    "res"
   ]
  },
  {
   "cell_type": "markdown",
   "metadata": {},
   "source": [
    "### Question 5: 5-Fold CV\n",
    "\n",
    "\n",
    "Use the `KFold` class from Scikit-Learn to evaluate our model on 5 different folds:\n",
    "\n",
    "```\n",
    "KFold(n_splits=5, shuffle=True, random_state=1)\n",
    "```\n",
    "\n",
    "* Iterate over different folds of `df_full_train`\n",
    "* Split the data into train and validation\n",
    "* Train the model on train with these parameters: `LogisticRegression(solver='liblinear', C=1.0, max_iter=1000)`\n",
    "* Use AUC to evaluate the model on validation\n",
    "\n",
    "How large is standard deviation of the scores across different folds?\n",
    "\n",
    "- 0.0001\n",
    "- 0.006\n",
    "- 0.06 [X]\n",
    "- 0.36\n",
    "\n"
   ]
  },
  {
   "cell_type": "code",
   "execution_count": 50,
   "metadata": {},
   "outputs": [],
   "source": [
    "from sklearn.model_selection import KFold"
   ]
  },
  {
   "cell_type": "code",
   "execution_count": 51,
   "metadata": {},
   "outputs": [
    {
     "data": {
      "application/vnd.jupyter.widget-view+json": {
       "model_id": "8603022034924f5aa109ede9683a27d8",
       "version_major": 2,
       "version_minor": 0
      },
      "text/plain": [
       "0it [00:00, ?it/s]"
      ]
     },
     "metadata": {},
     "output_type": "display_data"
    }
   ],
   "source": [
    "kfold = KFold(n_splits=5, shuffle=True, random_state=1)\n",
    "\n",
    "scores = []\n",
    "\n",
    "for train_idx, val_idx in tqdm(kfold.split(df_full_train)):\n",
    "\n",
    "    df_train = df_full_train.iloc[train_idx]\n",
    "    df_val = df_full_train.iloc[val_idx]\n",
    "\n",
    "\n",
    "    y_train = df_train.converted.values\n",
    "    y_val = df_val.converted.values\n",
    "    \n",
    "\n",
    "    dv, model = train(df_train, y_train)\n",
    "    y_pred = predict(df_val, dv, model)\n",
    "\n",
    "\n",
    "    auc = roc_auc_score(y_val, y_pred)\n",
    "    scores.append(auc)"
   ]
  },
  {
   "cell_type": "code",
   "execution_count": 52,
   "metadata": {},
   "outputs": [
    {
     "data": {
      "text/plain": [
       "[0.8060745924216483,\n",
       " 0.8713738368910783,\n",
       " 0.7754320118852139,\n",
       " 0.8018368617683685,\n",
       " 0.8558272713202291]"
      ]
     },
     "execution_count": 52,
     "metadata": {},
     "output_type": "execute_result"
    }
   ],
   "source": [
    "scores"
   ]
  },
  {
   "cell_type": "code",
   "execution_count": 53,
   "metadata": {},
   "outputs": [
    {
     "data": {
      "text/plain": [
       "np.float64(0.03580711942905165)"
      ]
     },
     "execution_count": 53,
     "metadata": {},
     "output_type": "execute_result"
    }
   ],
   "source": [
    "np.std(scores)"
   ]
  },
  {
   "cell_type": "markdown",
   "metadata": {},
   "source": [
    "With Scaling"
   ]
  },
  {
   "cell_type": "code",
   "execution_count": 54,
   "metadata": {},
   "outputs": [
    {
     "data": {
      "application/vnd.jupyter.widget-view+json": {
       "model_id": "610af0000b4940ae8eba58cfe04851af",
       "version_major": 2,
       "version_minor": 0
      },
      "text/plain": [
       "0it [00:00, ?it/s]"
      ]
     },
     "metadata": {},
     "output_type": "display_data"
    }
   ],
   "source": [
    "kfold = KFold(n_splits=5, shuffle=True, random_state=1)\n",
    "\n",
    "scores = []\n",
    "\n",
    "for train_idx, val_idx in tqdm(kfold.split(df_full_train)):\n",
    "\n",
    "    df_train = df_full_train.iloc[train_idx]\n",
    "    df_val = df_full_train.iloc[val_idx]\n",
    "\n",
    "\n",
    "    y_train = df_train.converted.values\n",
    "    y_val = df_val.converted.values\n",
    "    \n",
    "\n",
    "    dv, model = train_with_scaler(df_train, y_train)\n",
    "    y_pred = predict_with_scaler(df_val, dv, model)\n",
    "\n",
    "\n",
    "    auc = roc_auc_score(y_val, y_pred)\n",
    "    scores.append(auc)"
   ]
  },
  {
   "cell_type": "code",
   "execution_count": 55,
   "metadata": {},
   "outputs": [
    {
     "data": {
      "text/plain": [
       "[0.9199732003275515,\n",
       " 0.9309562905622019,\n",
       " 0.9051528657439987,\n",
       " 0.9089352428393525,\n",
       " 0.9301191765980499]"
      ]
     },
     "execution_count": 55,
     "metadata": {},
     "output_type": "execute_result"
    }
   ],
   "source": [
    "scores"
   ]
  },
  {
   "cell_type": "code",
   "execution_count": 56,
   "metadata": {},
   "outputs": [
    {
     "data": {
      "text/plain": [
       "np.float64(0.01058843532701378)"
      ]
     },
     "execution_count": 56,
     "metadata": {},
     "output_type": "execute_result"
    }
   ],
   "source": [
    "np.std(scores)"
   ]
  },
  {
   "cell_type": "markdown",
   "metadata": {},
   "source": [
    "### Question 6: Hyperparameter Tuning\n",
    "\n",
    "Now let's use 5-Fold cross-validation to find the best parameter `C`\n",
    "\n",
    "* Iterate over the following `C` values: `[0.000001, 0.001, 1]`\n",
    "* Initialize `KFold` with the same parameters as previously\n",
    "* Use these parameters for the model: `LogisticRegression(solver='liblinear', C=C, max_iter=1000)`\n",
    "* Compute the mean score as well as the std (round the mean and std to 3 decimal digits)\n",
    "\n",
    "Which `C` leads to the best mean score?\n",
    "\n",
    "- 0.000001\n",
    "- 0.001 [X]\n",
    "- 1\n",
    "\n",
    "If you have ties, select the score with the lowest std. If you still have ties, select the smallest `C`."
   ]
  },
  {
   "cell_type": "code",
   "execution_count": 58,
   "metadata": {},
   "outputs": [],
   "source": [
    "def train(df_train, y_train, C=1.0):\n",
    "    dicts = df_train[categorical + numerical].to_dict(orient='records')\n",
    "    \n",
    "    dv = DictVectorizer(sparse=False)\n",
    "    X_train = dv.fit_transform(dicts)\n",
    "\n",
    "    model = LogisticRegression(solver='liblinear', C=C, max_iter=1000)\n",
    "    model.fit(X_train, y_train)\n",
    "\n",
    "    return dv, model\n",
    "\n"
   ]
  },
  {
   "cell_type": "code",
   "execution_count": 59,
   "metadata": {},
   "outputs": [
    {
     "data": {
      "application/vnd.jupyter.widget-view+json": {
       "model_id": "34f026f8b0e14650bf62e54abae507a9",
       "version_major": 2,
       "version_minor": 0
      },
      "text/plain": [
       "  0%|          | 0/3 [00:00<?, ?it/s]"
      ]
     },
     "metadata": {},
     "output_type": "display_data"
    },
    {
     "name": "stdout",
     "output_type": "stream",
     "text": [
      "C=1e-06 0.560 +- 0.024\n",
      "C=0.001 0.867 +- 0.029\n",
      "C=1 0.822 +- 0.036\n"
     ]
    }
   ],
   "source": [
    "n_splits = 5\n",
    "C = [0.000001, 0.001, 1]\n",
    "\n",
    "for c in tqdm(C):    \n",
    "\n",
    "    scores = []\n",
    "\n",
    "    kfold = KFold(n_splits=n_splits, shuffle=True, random_state=1)\n",
    "\n",
    "    for train_idx, val_idx in kfold.split(df_full_train):\n",
    "\n",
    "        df_train = df_full_train.iloc[train_idx]\n",
    "        df_val = df_full_train.iloc[val_idx]\n",
    "\n",
    "\n",
    "        y_train = df_train.converted.values\n",
    "        y_val = df_val.converted.values\n",
    "        \n",
    "\n",
    "        dv, model = train(df_train, y_train, c)\n",
    "        y_pred = predict(df_val, dv, model)\n",
    "\n",
    "\n",
    "        auc = roc_auc_score(y_val, y_pred)\n",
    "        scores.append(auc)\n",
    "\n",
    "    print('C=%s %.3f +- %.3f' % (c, np.mean(scores), np.std(scores)))"
   ]
  },
  {
   "cell_type": "markdown",
   "metadata": {},
   "source": [
    "## Submit the results\n",
    "\n",
    "* Submit your results here: https://courses.datatalks.club/ml-zoomcamp-2025/homework/hw04\n",
    "* If your answer doesn't match options exactly, select the closest one"
   ]
  }
 ],
 "metadata": {
  "kernelspec": {
   "display_name": ".venv",
   "language": "python",
   "name": "python3"
  },
  "language_info": {
   "codemirror_mode": {
    "name": "ipython",
    "version": 3
   },
   "file_extension": ".py",
   "mimetype": "text/x-python",
   "name": "python",
   "nbconvert_exporter": "python",
   "pygments_lexer": "ipython3",
   "version": "3.11.10"
  }
 },
 "nbformat": 4,
 "nbformat_minor": 2
}
